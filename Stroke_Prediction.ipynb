{
  "nbformat": 4,
  "nbformat_minor": 0,
  "metadata": {
    "colab": {
      "name": "Stroke Prediction.ipynb",
      "provenance": [],
      "authorship_tag": "ABX9TyMpYOWusSgeQ4vZhREzFk2p",
      "include_colab_link": true
    },
    "kernelspec": {
      "name": "python3",
      "display_name": "Python 3"
    },
    "language_info": {
      "name": "python"
    }
  },
  "cells": [
    {
      "cell_type": "markdown",
      "metadata": {
        "id": "view-in-github",
        "colab_type": "text"
      },
      "source": [
        "<a href=\"https://colab.research.google.com/github/YazCodes/stroke-prediction-DNN/blob/main/Stroke_Prediction.ipynb\" target=\"_parent\"><img src=\"https://colab.research.google.com/assets/colab-badge.svg\" alt=\"Open In Colab\"/></a>"
      ]
    },
    {
      "cell_type": "markdown",
      "metadata": {
        "id": "Ei1vsxN2nRa1"
      },
      "source": [
        "AI Research Lifecylce - **Stroke Prediction**"
      ]
    },
    {
      "cell_type": "code",
      "metadata": {
        "colab": {
          "base_uri": "https://localhost:8080/",
          "height": 194
        },
        "id": "c_ocH5A9nMXh",
        "outputId": "8ebfc257-dfa4-4860-ae63-d089809c1159"
      },
      "source": [
        "# Importing libraries\n",
        "import pandas as pd #programming language for data manipulation and analysis\n",
        "import numpy as np #array-processing package\n",
        "import matplotlib.pyplot as plt #used to create plots \n",
        "import seaborn as sns \n",
        "\n",
        "#This is reading the csv file \n",
        "df = pd.read_csv(\"/content/healthcare-dataset-stroke-data.csv\")\n",
        "\n",
        "df.head()\n",
        "\n",
        "#stroke: 1 if the patient had a stroke or 0 if not"
      ],
      "execution_count": null,
      "outputs": [
        {
          "output_type": "execute_result",
          "data": {
            "text/html": [
              "<div>\n",
              "<style scoped>\n",
              "    .dataframe tbody tr th:only-of-type {\n",
              "        vertical-align: middle;\n",
              "    }\n",
              "\n",
              "    .dataframe tbody tr th {\n",
              "        vertical-align: top;\n",
              "    }\n",
              "\n",
              "    .dataframe thead th {\n",
              "        text-align: right;\n",
              "    }\n",
              "</style>\n",
              "<table border=\"1\" class=\"dataframe\">\n",
              "  <thead>\n",
              "    <tr style=\"text-align: right;\">\n",
              "      <th></th>\n",
              "      <th>id</th>\n",
              "      <th>gender</th>\n",
              "      <th>age</th>\n",
              "      <th>hypertension</th>\n",
              "      <th>heart_disease</th>\n",
              "      <th>ever_married</th>\n",
              "      <th>work_type</th>\n",
              "      <th>Residence_type</th>\n",
              "      <th>avg_glucose_level</th>\n",
              "      <th>bmi</th>\n",
              "      <th>smoking_status</th>\n",
              "      <th>stroke</th>\n",
              "    </tr>\n",
              "  </thead>\n",
              "  <tbody>\n",
              "    <tr>\n",
              "      <th>0</th>\n",
              "      <td>9046</td>\n",
              "      <td>Male</td>\n",
              "      <td>67.0</td>\n",
              "      <td>0</td>\n",
              "      <td>1</td>\n",
              "      <td>Yes</td>\n",
              "      <td>Private</td>\n",
              "      <td>Urban</td>\n",
              "      <td>228.69</td>\n",
              "      <td>36.6</td>\n",
              "      <td>formerly smoked</td>\n",
              "      <td>1</td>\n",
              "    </tr>\n",
              "    <tr>\n",
              "      <th>1</th>\n",
              "      <td>51676</td>\n",
              "      <td>Female</td>\n",
              "      <td>61.0</td>\n",
              "      <td>0</td>\n",
              "      <td>0</td>\n",
              "      <td>Yes</td>\n",
              "      <td>Self-employed</td>\n",
              "      <td>Rural</td>\n",
              "      <td>202.21</td>\n",
              "      <td>NaN</td>\n",
              "      <td>never smoked</td>\n",
              "      <td>1</td>\n",
              "    </tr>\n",
              "    <tr>\n",
              "      <th>2</th>\n",
              "      <td>31112</td>\n",
              "      <td>Male</td>\n",
              "      <td>80.0</td>\n",
              "      <td>0</td>\n",
              "      <td>1</td>\n",
              "      <td>Yes</td>\n",
              "      <td>Private</td>\n",
              "      <td>Rural</td>\n",
              "      <td>105.92</td>\n",
              "      <td>32.5</td>\n",
              "      <td>never smoked</td>\n",
              "      <td>1</td>\n",
              "    </tr>\n",
              "    <tr>\n",
              "      <th>3</th>\n",
              "      <td>60182</td>\n",
              "      <td>Female</td>\n",
              "      <td>49.0</td>\n",
              "      <td>0</td>\n",
              "      <td>0</td>\n",
              "      <td>Yes</td>\n",
              "      <td>Private</td>\n",
              "      <td>Urban</td>\n",
              "      <td>171.23</td>\n",
              "      <td>34.4</td>\n",
              "      <td>smokes</td>\n",
              "      <td>1</td>\n",
              "    </tr>\n",
              "    <tr>\n",
              "      <th>4</th>\n",
              "      <td>1665</td>\n",
              "      <td>Female</td>\n",
              "      <td>79.0</td>\n",
              "      <td>1</td>\n",
              "      <td>0</td>\n",
              "      <td>Yes</td>\n",
              "      <td>Self-employed</td>\n",
              "      <td>Rural</td>\n",
              "      <td>174.12</td>\n",
              "      <td>24.0</td>\n",
              "      <td>never smoked</td>\n",
              "      <td>1</td>\n",
              "    </tr>\n",
              "  </tbody>\n",
              "</table>\n",
              "</div>"
            ],
            "text/plain": [
              "      id  gender   age  ...   bmi   smoking_status stroke\n",
              "0   9046    Male  67.0  ...  36.6  formerly smoked      1\n",
              "1  51676  Female  61.0  ...   NaN     never smoked      1\n",
              "2  31112    Male  80.0  ...  32.5     never smoked      1\n",
              "3  60182  Female  49.0  ...  34.4           smokes      1\n",
              "4   1665  Female  79.0  ...  24.0     never smoked      1\n",
              "\n",
              "[5 rows x 12 columns]"
            ]
          },
          "metadata": {
            "tags": []
          },
          "execution_count": 40
        }
      ]
    },
    {
      "cell_type": "markdown",
      "metadata": {
        "id": "-MQK3LAU8sIR"
      },
      "source": [
        "**Data exploration (EDA)**\n",
        "\n",
        "Create some visualisations from the data, try to find some useful\n",
        "insights.\n",
        "\n",
        "![image.png](data:image/png;base64,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)\n",
        "\n"
      ]
    },
    {
      "cell_type": "code",
      "metadata": {
        "colab": {
          "base_uri": "https://localhost:8080/",
          "height": 35
        },
        "id": "7c6InvfwDv9U",
        "outputId": "15ebe09b-1ae0-400c-8f65-ef05522d3047"
      },
      "source": [
        "fig=plt.figure() #Plots in matplotlib reside within a figure object, use plt.figure to create new figure\n",
        "#Create one or more subplots using add_subplot, because you can't create blank figure\n",
        "#ax = fig.add_subplot(1,1,1)\n",
        "#Variable\n",
        "#ax.hist(df['age'],bins = 7) # Here you can play with number of bins\n",
        "#Labels and Tit\n",
        "#plt.title('Age distribution')\n",
        "#plt.xlabel('age')\n",
        "##plt.ylabel('#Employee')\n",
        "\n"
      ],
      "execution_count": 110,
      "outputs": [
        {
          "output_type": "display_data",
          "data": {
            "text/plain": [
              "<Figure size 432x288 with 0 Axes>"
            ]
          },
          "metadata": {
            "tags": []
          }
        }
      ]
    },
    {
      "cell_type": "code",
      "metadata": {
        "colab": {
          "base_uri": "https://localhost:8080/",
          "height": 352
        },
        "id": "YhSzxuNmENcZ",
        "outputId": "20396e9d-ff83-4db3-9e82-7da0008070a6"
      },
      "source": [
        "sns.violinplot(df['bmi'], df['gender']) #Variable Plot"
      ],
      "execution_count": null,
      "outputs": [
        {
          "output_type": "stream",
          "text": [
            "/usr/local/lib/python3.7/dist-packages/seaborn/_decorators.py:43: FutureWarning: Pass the following variables as keyword args: x, y. From version 0.12, the only valid positional argument will be `data`, and passing other arguments without an explicit keyword will result in an error or misinterpretation.\n",
            "  FutureWarning\n"
          ],
          "name": "stderr"
        },
        {
          "output_type": "execute_result",
          "data": {
            "text/plain": [
              "<matplotlib.axes._subplots.AxesSubplot at 0x7f96cb2e6310>"
            ]
          },
          "metadata": {
            "tags": []
          },
          "execution_count": 32
        },
        {
          "output_type": "display_data",
          "data": {
            "image/png": "[encoded data removed]",
            "text/plain": [
              "<Figure size 432x288 with 1 Axes>"
            ]
          },
          "metadata": {
            "tags": [],
            "needs_background": "light"
          }
        }
      ]
    },
    {
      "cell_type": "code",
      "metadata": {
        "id": "oyn75cqYEZnt"
      },
      "source": [
        "#var = df.groupby('gender')\n",
        "#fig = plt.figure()\n",
        "#ax1 = fig.add_subplot(1,1,1)\n",
        "###ax1.set_xlabel('gender')\n",
        "#ax1.set_ylabel('bmi')\n",
        "#ax1.set_title(\"xx\")\n",
        "#var.plot(kind='bar')"
      ],
      "execution_count": 111,
      "outputs": []
    },
    {
      "cell_type": "code",
      "metadata": {
        "id": "rVcYIjKcysjt"
      },
      "source": [
        "#DATA VISUALISATION \n",
        "\n",
        "#Chart one - bar chart \n",
        "\n",
        "#ax = df[['gender','stroke']].plot(kind='bar', title =\"V comp\", figsize=(15, 10), legend=True, fontsize=12)\n",
        "#ax.set_xlabel(\"gender\", fontsize=12)\n",
        "#ax.set_ylabel(\"stroke\", fontsize=12)\n",
        "#plt.show()\n",
        "\n",
        "#plot_df = df[['gender','stroke']]\n",
        "#df.plot.scatter(x=\"stroke\", y=\"gender\", s=10, title=\"Price of rooms depending on location\", c='green')\n",
        "\n",
        "\n",
        "#my_labels = df['age'],df['bmi']\n",
        "##plt.pie(df[['age','bmi']],labels=my_labels,autopct='%1.1f%%')\n",
        "#plt.title('My Title')\n",
        "#plt.axis('equal')\n",
        "#plt.show()\n"
      ],
      "execution_count": null,
      "outputs": []
    },
    {
      "cell_type": "markdown",
      "metadata": {
        "id": "uUurvV4MHWyG"
      },
      "source": [
        "Data pre-processing\n"
      ]
    },
    {
      "cell_type": "code",
      "metadata": {
        "colab": {
          "base_uri": "https://localhost:8080/"
        },
        "id": "Ag9U6kFkHaTG",
        "outputId": "1ee80001-2274-4357-b772-130d2888dd37"
      },
      "source": [
        "\n",
        "df.isnull().values.any() #This shows if there are any missing values in the dataset. True = yes false = No"
      ],
      "execution_count": null,
      "outputs": [
        {
          "output_type": "execute_result",
          "data": {
            "text/plain": [
              "True"
            ]
          },
          "metadata": {
            "tags": []
          },
          "execution_count": 35
        }
      ]
    },
    {
      "cell_type": "code",
      "metadata": {
        "colab": {
          "base_uri": "https://localhost:8080/"
        },
        "id": "ofX0eyjkHjOg",
        "outputId": "3335ff19-00b8-40fe-8eb4-b87b9e10cca2"
      },
      "source": [
        "df.isnull().sum().sum() #The total of missing values in the dataset"
      ],
      "execution_count": null,
      "outputs": [
        {
          "output_type": "execute_result",
          "data": {
            "text/plain": [
              "201"
            ]
          },
          "metadata": {
            "tags": []
          },
          "execution_count": 36
        }
      ]
    },
    {
      "cell_type": "code",
      "metadata": {
        "colab": {
          "base_uri": "https://localhost:8080/"
        },
        "id": "5zYuB2AyHmt_",
        "outputId": "0d09e623-324a-49d1-b73e-edc060404e08"
      },
      "source": [
        "df.isnull().sum() #This locates where the missing values are located in each feature"
      ],
      "execution_count": null,
      "outputs": [
        {
          "output_type": "execute_result",
          "data": {
            "text/plain": [
              "id                     0\n",
              "gender                 0\n",
              "age                    0\n",
              "hypertension           0\n",
              "heart_disease          0\n",
              "ever_married           0\n",
              "work_type              0\n",
              "Residence_type         0\n",
              "avg_glucose_level      0\n",
              "bmi                  201\n",
              "smoking_status         0\n",
              "stroke                 0\n",
              "dtype: int64"
            ]
          },
          "metadata": {
            "tags": []
          },
          "execution_count": 41
        }
      ]
    },
    {
      "cell_type": "code",
      "metadata": {
        "colab": {
          "base_uri": "https://localhost:8080/"
        },
        "id": "JCSk3q1DIK6n",
        "outputId": "aec83b5b-d994-42fe-cba5-b20441517f3e"
      },
      "source": [
        "#As we cannot create our own BMI values due to hospital ethics i have decided to drop any missing rows with missing bmi values\n",
        "\n",
        "df = df.dropna()\n",
        "print(df)\n"
      ],
      "execution_count": null,
      "outputs": [
        {
          "output_type": "stream",
          "text": [
            "         id  gender   age  ...   bmi   smoking_status stroke\n",
            "0      9046    Male  67.0  ...  36.6  formerly smoked      1\n",
            "2     31112    Male  80.0  ...  32.5     never smoked      1\n",
            "3     60182  Female  49.0  ...  34.4           smokes      1\n",
            "4      1665  Female  79.0  ...  24.0     never smoked      1\n",
            "5     56669    Male  81.0  ...  29.0  formerly smoked      1\n",
            "...     ...     ...   ...  ...   ...              ...    ...\n",
            "5104  14180  Female  13.0  ...  18.6          Unknown      0\n",
            "5106  44873  Female  81.0  ...  40.0     never smoked      0\n",
            "5107  19723  Female  35.0  ...  30.6     never smoked      0\n",
            "5108  37544    Male  51.0  ...  25.6  formerly smoked      0\n",
            "5109  44679  Female  44.0  ...  26.2          Unknown      0\n",
            "\n",
            "[4909 rows x 12 columns]\n"
          ],
          "name": "stdout"
        }
      ]
    },
    {
      "cell_type": "code",
      "metadata": {
        "colab": {
          "base_uri": "https://localhost:8080/"
        },
        "id": "CjOy8SVXIq90",
        "outputId": "e754aeb4-01d5-41b3-d55e-be344d8b59d3"
      },
      "source": [
        "#check if it droped the missing value rows\n",
        "df['bmi'].isnull()\n",
        "df.isnull().sum().sum()"
      ],
      "execution_count": null,
      "outputs": [
        {
          "output_type": "execute_result",
          "data": {
            "text/plain": [
              "0"
            ]
          },
          "metadata": {
            "tags": []
          },
          "execution_count": 44
        }
      ]
    },
    {
      "cell_type": "code",
      "metadata": {
        "colab": {
          "base_uri": "https://localhost:8080/"
        },
        "id": "TlDaafIMKAOk",
        "outputId": "6eb6e356-ccfb-49a8-ac62-0b77719d1639"
      },
      "source": [
        "# Find a duplicate rows\n",
        "duplicateDFRow = df[df.duplicated()]\n",
        "print(\"duplicate rows:\"), (duplicateDFRow)\n",
        "\n",
        "#find duplicate row based on a column \n",
        "#duplicateDFRow = df[df.duplicated(['Name'])]\n",
        "#print(duplicateDFRow)"
      ],
      "execution_count": null,
      "outputs": [
        {
          "output_type": "stream",
          "text": [
            "duplicate rows:\n"
          ],
          "name": "stdout"
        },
        {
          "output_type": "execute_result",
          "data": {
            "text/plain": [
              "(None, Empty DataFrame\n",
              " Columns: [id, gender, age, hypertension, heart_disease, ever_married, work_type, Residence_type, avg_glucose_level, bmi, smoking_status, stroke]\n",
              " Index: [])"
            ]
          },
          "metadata": {
            "tags": []
          },
          "execution_count": 48
        }
      ]
    },
    {
      "cell_type": "code",
      "metadata": {
        "colab": {
          "base_uri": "https://localhost:8080/"
        },
        "id": "Q3HtCMbhLFJb",
        "outputId": "baae5b26-b950-476a-90ee-2f849852e4dd"
      },
      "source": [
        "#checking for data types\n",
        "\n",
        "df.dtypes #The type of data in each column"
      ],
      "execution_count": null,
      "outputs": [
        {
          "output_type": "execute_result",
          "data": {
            "text/plain": [
              "id                     int64\n",
              "gender                object\n",
              "age                  float64\n",
              "hypertension           int64\n",
              "heart_disease          int64\n",
              "ever_married          object\n",
              "work_type             object\n",
              "Residence_type        object\n",
              "avg_glucose_level    float64\n",
              "bmi                  float64\n",
              "smoking_status        object\n",
              "stroke                 int64\n",
              "dtype: object"
            ]
          },
          "metadata": {
            "tags": []
          },
          "execution_count": 49
        }
      ]
    },
    {
      "cell_type": "code",
      "metadata": {
        "colab": {
          "base_uri": "https://localhost:8080/",
          "height": 297
        },
        "id": "bLuYSn4TP6K1",
        "outputId": "829b568d-c773-4959-ae58-b215c9c7c8cd"
      },
      "source": [
        "\n",
        "# Summarise class details\n",
        "sns.countplot(x=df['stroke'])\n",
        "##stroke: 1 if the patient had a stroke or 0 if not"
      ],
      "execution_count": 61,
      "outputs": [
        {
          "output_type": "execute_result",
          "data": {
            "text/plain": [
              "<matplotlib.axes._subplots.AxesSubplot at 0x7f96a439dcd0>"
            ]
          },
          "metadata": {
            "tags": []
          },
          "execution_count": 61
        },
        {
          "output_type": "display_data",
          "data": {
            "image/png": "[encoded data removed]",
            "text/plain": [
              "<Figure size 432x288 with 1 Axes>"
            ]
          },
          "metadata": {
            "tags": [],
            "needs_background": "light"
          }
        }
      ]
    },
    {
      "cell_type": "code",
      "metadata": {
        "colab": {
          "base_uri": "https://localhost:8080/",
          "height": 425
        },
        "id": "WyPJk77AMI_n",
        "outputId": "1aa264c1-c33b-49bf-95f6-02abb7904a19"
      },
      "source": [
        "##removing unnecessary columns\n",
        "#x is training data it contains features and models - 'Class' is something we need to PREDICT therefore we need to drop that column \n",
        "x = df.drop(['work_type', 'Residence_type', 'ever_married', 'id', 'stroke', 'smoking_status','gender'], axis=1) #Class is not a feature it's just a label  axis = 1 shows we are using columns \n",
        "print(x.info())\n",
        "x.head()"
      ],
      "execution_count": 73,
      "outputs": [
        {
          "output_type": "stream",
          "text": [
            "<class 'pandas.core.frame.DataFrame'>\n",
            "Int64Index: 4909 entries, 0 to 5109\n",
            "Data columns (total 5 columns):\n",
            " #   Column             Non-Null Count  Dtype  \n",
            "---  ------             --------------  -----  \n",
            " 0   age                4909 non-null   float64\n",
            " 1   hypertension       4909 non-null   int64  \n",
            " 2   heart_disease      4909 non-null   int64  \n",
            " 3   avg_glucose_level  4909 non-null   float64\n",
            " 4   bmi                4909 non-null   float64\n",
            "dtypes: float64(3), int64(2)\n",
            "memory usage: 390.1 KB\n",
            "None\n"
          ],
          "name": "stdout"
        },
        {
          "output_type": "execute_result",
          "data": {
            "text/html": [
              "<div>\n",
              "<style scoped>\n",
              "    .dataframe tbody tr th:only-of-type {\n",
              "        vertical-align: middle;\n",
              "    }\n",
              "\n",
              "    .dataframe tbody tr th {\n",
              "        vertical-align: top;\n",
              "    }\n",
              "\n",
              "    .dataframe thead th {\n",
              "        text-align: right;\n",
              "    }\n",
              "</style>\n",
              "<table border=\"1\" class=\"dataframe\">\n",
              "  <thead>\n",
              "    <tr style=\"text-align: right;\">\n",
              "      <th></th>\n",
              "      <th>age</th>\n",
              "      <th>hypertension</th>\n",
              "      <th>heart_disease</th>\n",
              "      <th>avg_glucose_level</th>\n",
              "      <th>bmi</th>\n",
              "    </tr>\n",
              "  </thead>\n",
              "  <tbody>\n",
              "    <tr>\n",
              "      <th>0</th>\n",
              "      <td>67.0</td>\n",
              "      <td>0</td>\n",
              "      <td>1</td>\n",
              "      <td>228.69</td>\n",
              "      <td>36.6</td>\n",
              "    </tr>\n",
              "    <tr>\n",
              "      <th>2</th>\n",
              "      <td>80.0</td>\n",
              "      <td>0</td>\n",
              "      <td>1</td>\n",
              "      <td>105.92</td>\n",
              "      <td>32.5</td>\n",
              "    </tr>\n",
              "    <tr>\n",
              "      <th>3</th>\n",
              "      <td>49.0</td>\n",
              "      <td>0</td>\n",
              "      <td>0</td>\n",
              "      <td>171.23</td>\n",
              "      <td>34.4</td>\n",
              "    </tr>\n",
              "    <tr>\n",
              "      <th>4</th>\n",
              "      <td>79.0</td>\n",
              "      <td>1</td>\n",
              "      <td>0</td>\n",
              "      <td>174.12</td>\n",
              "      <td>24.0</td>\n",
              "    </tr>\n",
              "    <tr>\n",
              "      <th>5</th>\n",
              "      <td>81.0</td>\n",
              "      <td>0</td>\n",
              "      <td>0</td>\n",
              "      <td>186.21</td>\n",
              "      <td>29.0</td>\n",
              "    </tr>\n",
              "  </tbody>\n",
              "</table>\n",
              "</div>"
            ],
            "text/plain": [
              "    age  hypertension  heart_disease  avg_glucose_level   bmi\n",
              "0  67.0             0              1             228.69  36.6\n",
              "2  80.0             0              1             105.92  32.5\n",
              "3  49.0             0              0             171.23  34.4\n",
              "4  79.0             1              0             174.12  24.0\n",
              "5  81.0             0              0             186.21  29.0"
            ]
          },
          "metadata": {
            "tags": []
          },
          "execution_count": 73
        }
      ]
    },
    {
      "cell_type": "code",
      "metadata": {
        "colab": {
          "base_uri": "https://localhost:8080/"
        },
        "id": "bhf8IkP2LWF7",
        "outputId": "660d2316-85c5-48d8-be9f-3f82d4ad9ffe"
      },
      "source": [
        "#number of rows if df\n",
        "len(df)"
      ],
      "execution_count": null,
      "outputs": [
        {
          "output_type": "execute_result",
          "data": {
            "text/plain": [
              "4909"
            ]
          },
          "metadata": {
            "tags": []
          },
          "execution_count": 50
        }
      ]
    },
    {
      "cell_type": "markdown",
      "metadata": {
        "id": "mgMANMOsOS0m"
      },
      "source": [
        "Feature engineering "
      ]
    },
    {
      "cell_type": "code",
      "metadata": {
        "colab": {
          "base_uri": "https://localhost:8080/"
        },
        "id": "QZhmRwBBOVgB",
        "outputId": "704ec7ac-cddb-4f26-d297-f47393197eab"
      },
      "source": [
        "\n",
        "#Extracting labels and features \n",
        "\n",
        "#Extracting labels \n",
        "y= df['stroke']\n",
        "print(y.value_counts())\n",
        "#Since the labels 0 and 1 are already are numerical values they do not need to be converted for the model.\n",
        "#If the labels were in a catergorical state then you could use the label encoder to convert them"
      ],
      "execution_count": 63,
      "outputs": [
        {
          "output_type": "stream",
          "text": [
            "0    4700\n",
            "1     209\n",
            "Name: stroke, dtype: int64\n"
          ],
          "name": "stdout"
        }
      ]
    },
    {
      "cell_type": "code",
      "metadata": {
        "colab": {
          "base_uri": "https://localhost:8080/",
          "height": 194
        },
        "id": "MF1CQbKjO0IT",
        "outputId": "cbe00eac-f3e5-4063-dc59-87037e4605ba"
      },
      "source": [
        "#MODEL ONE\n",
        "\n",
        "#Using 8 features and 2 hidden layers \n",
        "#building the model - using training data \n",
        "#calculating if the probability is closer to 0 or 1 \n",
        "x1 =x.iloc[:, 0:5] #locating part of the data frame the first 8 and call it X1 \n",
        "x1.head()"
      ],
      "execution_count": 100,
      "outputs": [
        {
          "output_type": "execute_result",
          "data": {
            "text/html": [
              "<div>\n",
              "<style scoped>\n",
              "    .dataframe tbody tr th:only-of-type {\n",
              "        vertical-align: middle;\n",
              "    }\n",
              "\n",
              "    .dataframe tbody tr th {\n",
              "        vertical-align: top;\n",
              "    }\n",
              "\n",
              "    .dataframe thead th {\n",
              "        text-align: right;\n",
              "    }\n",
              "</style>\n",
              "<table border=\"1\" class=\"dataframe\">\n",
              "  <thead>\n",
              "    <tr style=\"text-align: right;\">\n",
              "      <th></th>\n",
              "      <th>age</th>\n",
              "      <th>hypertension</th>\n",
              "      <th>heart_disease</th>\n",
              "      <th>avg_glucose_level</th>\n",
              "      <th>bmi</th>\n",
              "    </tr>\n",
              "  </thead>\n",
              "  <tbody>\n",
              "    <tr>\n",
              "      <th>0</th>\n",
              "      <td>67.0</td>\n",
              "      <td>0</td>\n",
              "      <td>1</td>\n",
              "      <td>228.69</td>\n",
              "      <td>36.6</td>\n",
              "    </tr>\n",
              "    <tr>\n",
              "      <th>2</th>\n",
              "      <td>80.0</td>\n",
              "      <td>0</td>\n",
              "      <td>1</td>\n",
              "      <td>105.92</td>\n",
              "      <td>32.5</td>\n",
              "    </tr>\n",
              "    <tr>\n",
              "      <th>3</th>\n",
              "      <td>49.0</td>\n",
              "      <td>0</td>\n",
              "      <td>0</td>\n",
              "      <td>171.23</td>\n",
              "      <td>34.4</td>\n",
              "    </tr>\n",
              "    <tr>\n",
              "      <th>4</th>\n",
              "      <td>79.0</td>\n",
              "      <td>1</td>\n",
              "      <td>0</td>\n",
              "      <td>174.12</td>\n",
              "      <td>24.0</td>\n",
              "    </tr>\n",
              "    <tr>\n",
              "      <th>5</th>\n",
              "      <td>81.0</td>\n",
              "      <td>0</td>\n",
              "      <td>0</td>\n",
              "      <td>186.21</td>\n",
              "      <td>29.0</td>\n",
              "    </tr>\n",
              "  </tbody>\n",
              "</table>\n",
              "</div>"
            ],
            "text/plain": [
              "    age  hypertension  heart_disease  avg_glucose_level   bmi\n",
              "0  67.0             0              1             228.69  36.6\n",
              "2  80.0             0              1             105.92  32.5\n",
              "3  49.0             0              0             171.23  34.4\n",
              "4  79.0             1              0             174.12  24.0\n",
              "5  81.0             0              0             186.21  29.0"
            ]
          },
          "metadata": {
            "tags": []
          },
          "execution_count": 100
        }
      ]
    },
    {
      "cell_type": "code",
      "metadata": {
        "colab": {
          "base_uri": "https://localhost:8080/"
        },
        "id": "vaqdS1fSQcrX",
        "outputId": "5be722d6-99d4-4526-fe76-9ffdd286aead"
      },
      "source": [
        "from sklearn.preprocessing import LabelEncoder #need to convert labels - strings into boolean values etc \n",
        "from sklearn.model_selection import train_test_split\n",
        "\n",
        "from keras.models import Sequential\n",
        "from keras.layers import Dense\n",
        "\n",
        "from sklearn import metrics\n",
        "#Spliting the data into train (70%) and validation (30%)\n",
        "X_train1, X_val1, y_train1, y_val1 = train_test_split(x1, y, test_size=0.3, random_state=100) #random state - regenerate the split again \n",
        "print(f'training data set size: {len(X_train1)}')\n",
        "print(f'validation data set size: {len(X_val1)}')"
      ],
      "execution_count": 101,
      "outputs": [
        {
          "output_type": "stream",
          "text": [
            "training data set size: 3436\n",
            "validation data set size: 1473\n"
          ],
          "name": "stdout"
        }
      ]
    },
    {
      "cell_type": "code",
      "metadata": {
        "colab": {
          "base_uri": "https://localhost:8080/"
        },
        "id": "euWTRhGfQoUt",
        "outputId": "10b87fe4-fa61-4218-fcba-804fe0603230"
      },
      "source": [
        "#Building model One\n",
        "\n",
        "# define the keras model\n",
        "model1 = Sequential()\n",
        "model1.add(Dense(12, input_dim=5, activation='relu')) #Defining our hidden layer - adding the layers to the model, a dence layer, 12 neurons, we selected 8 features so 8 input dimentions .\n",
        "model1.add(Dense(8, activation='relu')) #second hidden layer\n",
        "#using relu for hidden layers not for output layers \n",
        "model1.add(Dense(1, activation='sigmoid')) #creating our output layer with one neurone \n",
        "\n",
        "model1.summary()\n"
      ],
      "execution_count": 103,
      "outputs": [
        {
          "output_type": "stream",
          "text": [
            "Model: \"sequential_7\"\n",
            "_________________________________________________________________\n",
            "Layer (type)                 Output Shape              Param #   \n",
            "=================================================================\n",
            "dense_21 (Dense)             (None, 12)                72        \n",
            "_________________________________________________________________\n",
            "dense_22 (Dense)             (None, 8)                 104       \n",
            "_________________________________________________________________\n",
            "dense_23 (Dense)             (None, 1)                 9         \n",
            "=================================================================\n",
            "Total params: 185\n",
            "Trainable params: 185\n",
            "Non-trainable params: 0\n",
            "_________________________________________________________________\n"
          ],
          "name": "stdout"
        }
      ]
    },
    {
      "cell_type": "code",
      "metadata": {
        "id": "tO6guX7FRCr0"
      },
      "source": [
        "import tensorflow as tf\n",
        "# compile the keras model\n",
        "model1.compile(loss='binary_crossentropy', optimizer='adam', metrics=['accuracy'])"
      ],
      "execution_count": 104,
      "outputs": []
    },
    {
      "cell_type": "code",
      "metadata": {
        "colab": {
          "base_uri": "https://localhost:8080/"
        },
        "id": "q-DZuj72ROOd",
        "outputId": "c60e18d0-54cc-44c7-ad59-86f0057a0e86"
      },
      "source": [
        "model1.fit(X_train1, y_train1, batch_size=50, epochs=20, validation_data=(X_val1, y_val1))"
      ],
      "execution_count": 105,
      "outputs": [
        {
          "output_type": "stream",
          "text": [
            "Epoch 1/20\n",
            "69/69 [==============================] - 1s 5ms/step - loss: 0.5782 - accuracy: 0.9066 - val_loss: 0.2780 - val_accuracy: 0.9593\n",
            "Epoch 2/20\n",
            "69/69 [==============================] - 0s 2ms/step - loss: 0.2496 - accuracy: 0.9569 - val_loss: 0.1882 - val_accuracy: 0.9593\n",
            "Epoch 3/20\n",
            "69/69 [==============================] - 0s 2ms/step - loss: 0.2154 - accuracy: 0.9529 - val_loss: 0.1674 - val_accuracy: 0.9593\n",
            "Epoch 4/20\n",
            "69/69 [==============================] - 0s 2ms/step - loss: 0.1944 - accuracy: 0.9543 - val_loss: 0.1624 - val_accuracy: 0.9593\n",
            "Epoch 5/20\n",
            "69/69 [==============================] - 0s 2ms/step - loss: 0.1683 - accuracy: 0.9611 - val_loss: 0.1600 - val_accuracy: 0.9593\n",
            "Epoch 6/20\n",
            "69/69 [==============================] - 0s 2ms/step - loss: 0.1886 - accuracy: 0.9543 - val_loss: 0.1554 - val_accuracy: 0.9593\n",
            "Epoch 7/20\n",
            "69/69 [==============================] - 0s 2ms/step - loss: 0.1654 - accuracy: 0.9601 - val_loss: 0.1561 - val_accuracy: 0.9593\n",
            "Epoch 8/20\n",
            "69/69 [==============================] - 0s 2ms/step - loss: 0.1705 - accuracy: 0.9606 - val_loss: 0.1574 - val_accuracy: 0.9593\n",
            "Epoch 9/20\n",
            "69/69 [==============================] - 0s 2ms/step - loss: 0.1839 - accuracy: 0.9542 - val_loss: 0.1533 - val_accuracy: 0.9593\n",
            "Epoch 10/20\n",
            "69/69 [==============================] - 0s 2ms/step - loss: 0.1732 - accuracy: 0.9543 - val_loss: 0.1504 - val_accuracy: 0.9593\n",
            "Epoch 11/20\n",
            "69/69 [==============================] - 0s 2ms/step - loss: 0.1830 - accuracy: 0.9514 - val_loss: 0.1524 - val_accuracy: 0.9593\n",
            "Epoch 12/20\n",
            "69/69 [==============================] - 0s 2ms/step - loss: 0.1748 - accuracy: 0.9560 - val_loss: 0.1511 - val_accuracy: 0.9593\n",
            "Epoch 13/20\n",
            "69/69 [==============================] - 0s 2ms/step - loss: 0.1748 - accuracy: 0.9566 - val_loss: 0.1512 - val_accuracy: 0.9593\n",
            "Epoch 14/20\n",
            "69/69 [==============================] - 0s 2ms/step - loss: 0.1580 - accuracy: 0.9600 - val_loss: 0.1536 - val_accuracy: 0.9593\n",
            "Epoch 15/20\n",
            "69/69 [==============================] - 0s 2ms/step - loss: 0.1716 - accuracy: 0.9582 - val_loss: 0.1504 - val_accuracy: 0.9593\n",
            "Epoch 16/20\n",
            "69/69 [==============================] - 0s 2ms/step - loss: 0.1664 - accuracy: 0.9574 - val_loss: 0.1502 - val_accuracy: 0.9593\n",
            "Epoch 17/20\n",
            "69/69 [==============================] - 0s 2ms/step - loss: 0.1590 - accuracy: 0.9603 - val_loss: 0.1540 - val_accuracy: 0.9593\n",
            "Epoch 18/20\n",
            "69/69 [==============================] - 0s 2ms/step - loss: 0.1552 - accuracy: 0.9602 - val_loss: 0.1514 - val_accuracy: 0.9593\n",
            "Epoch 19/20\n",
            "69/69 [==============================] - 0s 2ms/step - loss: 0.1640 - accuracy: 0.9568 - val_loss: 0.1492 - val_accuracy: 0.9593\n",
            "Epoch 20/20\n",
            "69/69 [==============================] - 0s 2ms/step - loss: 0.1763 - accuracy: 0.9524 - val_loss: 0.1502 - val_accuracy: 0.9593\n"
          ],
          "name": "stdout"
        },
        {
          "output_type": "execute_result",
          "data": {
            "text/plain": [
              "<tensorflow.python.keras.callbacks.History at 0x7f966955bc10>"
            ]
          },
          "metadata": {
            "tags": []
          },
          "execution_count": 105
        }
      ]
    },
    {
      "cell_type": "code",
      "metadata": {
        "colab": {
          "base_uri": "https://localhost:8080/"
        },
        "id": "M4bfYhZfSBeV",
        "outputId": "a444acdf-4841-4172-8c0d-01b8664e63dd"
      },
      "source": [
        "\n",
        "# get model predictions for validation data\n",
        "y_pred1 = model1.predict(X_val1)\n",
        "print(y_pred1[:10])"
      ],
      "execution_count": 106,
      "outputs": [
        {
          "output_type": "stream",
          "text": [
            "[[0.04034331]\n",
            " [0.0081484 ]\n",
            " [0.01440036]\n",
            " [0.08122668]\n",
            " [0.09972963]\n",
            " [0.20552886]\n",
            " [0.01238847]\n",
            " [0.0030916 ]\n",
            " [0.0119693 ]\n",
            " [0.03950036]]\n"
          ],
          "name": "stdout"
        }
      ]
    },
    {
      "cell_type": "code",
      "metadata": {
        "colab": {
          "base_uri": "https://localhost:8080/"
        },
        "id": "K_NvV13MWKVH",
        "outputId": "dde5c6af-d1c5-4b6c-9bb3-806b8c0f381d"
      },
      "source": [
        "y_pred_categorical1 = []\n",
        "for pred in y_pred1:\n",
        "  if pred > 0.5:\n",
        "    y_pred_categorical1.append(1)\n",
        "  else:\n",
        "    y_pred_categorical1.append(0)\n",
        "  \n",
        "\n",
        "print(y_pred_categorical1[:10])\n"
      ],
      "execution_count": 107,
      "outputs": [
        {
          "output_type": "stream",
          "text": [
            "[0, 0, 0, 0, 0, 0, 0, 0, 0, 0]\n"
          ],
          "name": "stdout"
        }
      ]
    },
    {
      "cell_type": "code",
      "metadata": {
        "colab": {
          "base_uri": "https://localhost:8080/"
        },
        "id": "jQ2UZ_i9WN6z",
        "outputId": "3d747875-0705-41ce-f7f9-1757f21145a2"
      },
      "source": [
        "# measure accuracy\n",
        "accuracy = metrics.accuracy_score(y_val1, y_pred_categorical1)\n",
        "print(f'Accuracy: {accuracy}')"
      ],
      "execution_count": 108,
      "outputs": [
        {
          "output_type": "stream",
          "text": [
            "Accuracy: 0.9592668024439919\n"
          ],
          "name": "stdout"
        }
      ]
    }
  ]
}